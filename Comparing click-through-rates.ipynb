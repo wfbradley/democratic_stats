{
 "cells": [
  {
   "cell_type": "markdown",
   "metadata": {},
   "source": [
    "Suppose you are running two online ads and you wish to compare their performance.  Ad \\#1 ran 500 times and people clicked on it 5 times; ad \\#2 ran 600 times and people clicked on it 12 times.  The Click-Through-Rate (CTR) of Ad \\#2 is 2%, but the CTR for Ad \\#1 is only 1%, so you should stick with Ad \\#2, right?\n",
    "\n",
    "Well, not so fast.  Maybe you just haven't collected enough data yet, and the difference in CTR is not significant.  To think about this more carefully, you might imagine that there is some secret, true CTR for each ad; the data lets you make guesses about this underlying rate.\n",
    "\n",
    "In particular, if you specify the counts (5 of 500, and 12 of 600), you can plot the likelihood of the true CTR for each ad.  If the graphs significantly overlap (which they do), then you do not yet have enough data to feel confident that Ad \\#2 is actually better than Ad \\#1.  If the two peaks are distinct, then you can confidently distinguish the CTRs.\n",
    "\n",
    "To see these curves with your own CTRs, fill in the boxes below.  You'll be prompted for all the fields.  If you don't see any fields, look for the bottom grey box of code, which starts something like\n",
    "\n",
    "`a1=raw_input(\"Clicks from Ad #1 (e.g. 5):  \")`\n",
    "\n",
    "click anywhere in that box, and type shift-enter."
   ]
  },
  {
   "cell_type": "code",
   "execution_count": 1,
   "metadata": {
    "collapsed": false
   },
   "outputs": [
    {
     "data": {
      "text/html": [
       "<script>\n",
       "code_show=true; \n",
       "function code_toggle() {\n",
       " if (code_show){\n",
       " $('div.input').hide();\n",
       " } else {\n",
       " $('div.input').show();\n",
       " }\n",
       " code_show = !code_show\n",
       "} \n",
       "$( document ).ready(code_toggle);\n",
       "</script>\n",
       "<form action=\"javascript:code_toggle()\"><input type=\"submit\" value=\"Click here to toggle on/off the raw code.\"></form>"
      ],
      "text/plain": [
       "<IPython.core.display.HTML object>"
      ]
     },
     "execution_count": 1,
     "metadata": {},
     "output_type": "execute_result"
    }
   ],
   "source": [
    "from IPython.display import HTML\n",
    "\n",
    "HTML('''<script>\n",
    "code_show=true; \n",
    "function code_toggle() {\n",
    " if (code_show){\n",
    " $('div.input').hide();\n",
    " } else {\n",
    " $('div.input').show();\n",
    " }\n",
    " code_show = !code_show\n",
    "} \n",
    "$( document ).ready(code_toggle);\n",
    "</script>\n",
    "<form action=\"javascript:code_toggle()\"><input type=\"submit\" value=\"Click here to toggle on/off the raw code.\"></form>''')"
   ]
  },
  {
   "cell_type": "code",
   "execution_count": null,
   "metadata": {
    "collapsed": false
   },
   "outputs": [
    {
     "name": "stderr",
     "output_type": "stream",
     "text": [
      "//anaconda/lib/python2.7/site-packages/matplotlib/__init__.py:872: UserWarning: axes.color_cycle is deprecated and replaced with axes.prop_cycle; please use the latter.\n",
      "  warnings.warn(self.msg_depr % (key, alt_key))\n"
     ]
    }
   ],
   "source": [
    "import matplotlib.pyplot as plt\n",
    "%matplotlib inline\n",
    "import numpy as np\n",
    "from scipy.stats import beta\n",
    "import seaborn as sns\n",
    "import sys\n",
    "import argparse\n",
    "\n",
    "def plot_two_betas(a1=None,b1=None,label1=None,a2=None,b2=None,label2=None,num=10000,threshold=.001):\n",
    "    x=np.linspace(1./float(num+1),1.0-1./float(num+1),num=num)\n",
    "    y1=beta.pdf(x,a1,b1)\n",
    "    big1=y1>=threshold\n",
    "    plt.plot(100.0*x[big1],y1[big1],label=label1)\n",
    "    if not (a2 is None):\n",
    "        y2=beta.pdf(x,a2,b2)\n",
    "        big2=y2>=threshold\n",
    "        plt.plot(100.0*x[big2],y2[big2],label=label2)\n",
    "    if not(label1 is None) or not(label2 is None):\n",
    "        plt.legend(loc='best')\n",
    "    plt.xlabel('Rate (in %)')\n",
    "    plt.ylabel('Likelihood')\n",
    "\n",
    "def plot_two_samples(a1=None,n1=None,label1='',a2=None,n2=None,label2='',num=10000,threshold=.001):\n",
    "    # In case a1, etc are passed as strings instead of floats\n",
    "    a1=float(a1)\n",
    "    n1=float(n1)\n",
    "\n",
    "    b1=n1-a1\n",
    "    if a1<0 or n1<a1:\n",
    "        print \"Must have 0<=a1<=n1\"\n",
    "        sys.exit(0)\n",
    "\n",
    "    label1_extra='%d of %d (%.2f%%)'%(int(a1),int(n1),100.0*a1/n1)\n",
    "    if label1 is '':\n",
    "        label1=label1_extra\n",
    "    else:\n",
    "        label1+=' (%s)'%label1_extra\n",
    "\n",
    "\n",
    "\n",
    "    # Must have a2 and n2 BOTH none or NEITHER none:\n",
    "    if (a2 is np.nan) or (n2 is np.nan):\n",
    "        if not ((a2 is np.nan) and (n2 is np.nan)):\n",
    "            print \"Need to set a2 AND n2, if using them.\"\n",
    "            sys.exit(0)\n",
    "    else:\n",
    "        a2=float(a2)\n",
    "        n2=float(n2)\n",
    "        if a2<0 or n2<a2:\n",
    "            print \"Must have 0<=a2<=n2\"\n",
    "            sys.exit(0)\n",
    "        b2=n2-a2\n",
    "\n",
    "        label2_extra='%d of %d (%.2f%%)'%(int(a2),int(n2),100.0*a2/n2)\n",
    "        if label2 is '':\n",
    "            label2=label2_extra\n",
    "        else:\n",
    "            label2+=' (%s)'%label2_extra\n",
    "\n",
    "    # Add uniform prior:\n",
    "    a1+=1\n",
    "    b1+=1\n",
    "    a2+=1\n",
    "    b2+=1\n",
    "\n",
    "    plot_two_betas(a1=a1,b1=b1,a2=a2,b2=b2,label1=label1,label2=label2,threshold=threshold)\n",
    "\n"
   ]
  },
  {
   "cell_type": "code",
   "execution_count": null,
   "metadata": {
    "collapsed": false
   },
   "outputs": [],
   "source": [
    "a1=raw_input(\"Clicks from Ad #1 (e.g. 5):  \")\n",
    "n1=raw_input(\"Total impressions from Ad #1 (e.g. 500):  \")\n",
    "label1=raw_input(\"Name for Ad #1:  \")\n",
    "\n",
    "a2=raw_input(\"Clicks from Ad #2 (e.g. 12):  \")\n",
    "n2=raw_input(\"Total impressions from Ad #2 (e.g. 600):  \")\n",
    "label2=raw_input(\"Name for Ad #2:  \")\n",
    "\n",
    "plt.figure(figsize=(12,8))\n",
    "plot_two_samples(a1=a1,n1=n1,label1=label1,a2=a2,n2=n2,label2=label2)"
   ]
  },
  {
   "cell_type": "code",
   "execution_count": null,
   "metadata": {
    "collapsed": true
   },
   "outputs": [],
   "source": []
  }
 ],
 "metadata": {
  "kernelspec": {
   "display_name": "Python 2",
   "language": "python",
   "name": "python2"
  },
  "language_info": {
   "codemirror_mode": {
    "name": "ipython",
    "version": 2
   },
   "file_extension": ".py",
   "mimetype": "text/x-python",
   "name": "python",
   "nbconvert_exporter": "python",
   "pygments_lexer": "ipython2",
   "version": "2.7.11"
  }
 },
 "nbformat": 4,
 "nbformat_minor": 0
}
